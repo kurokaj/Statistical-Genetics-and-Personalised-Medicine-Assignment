{
 "cells": [
  {
   "cell_type": "markdown",
   "metadata": {},
   "source": [
    "# ASSIGNMENT FOR COURSE Statistical Genetics and Personalised Medicine\n",
    "## Early Prediction of Sepsis from Clinical Data -- the PhysioNet Computing in Cardiology Challenge 2019 "
   ]
  },
  {
   "cell_type": "markdown",
   "metadata": {},
   "source": [
    "### Imports"
   ]
  },
  {
   "cell_type": "code",
   "execution_count": 2,
   "metadata": {},
   "outputs": [],
   "source": [
    "import numpy as np\n",
    "import pandas as pd\n",
    "import os\n",
    "from tqdm import tqdm\n"
   ]
  },
  {
   "cell_type": "markdown",
   "metadata": {},
   "source": [
    "### Create data matrices for visualization\n",
    "\n",
    "Running this cell creates (761995, 43) matrix where patient id and time is included as own columns. It takes over hour to do this matrix only for B data set so it is probably better to think another way. Many cells had Nan values so we have to think what to do with those. \n",
    "\n",
    "Notes:\n",
    "    - Katso kilpailun vastauksista miten ne on muokannut ja visualisoinut dataa \n",
    "    - Ehkä fiksua luoda oma dataloaderi\n",
    "    - Data Gittiin alkuperäisessä muodossa vai kootussa muodossa?"
   ]
  },
  {
   "cell_type": "code",
   "execution_count": null,
   "metadata": {},
   "outputs": [],
   "source": [
    "# Path to dataset (wrong atm)\n",
    "path_train_B = \"/Data_sets/B\"\n",
    "\n",
    "train_B =0\n",
    "\n",
    "# Loop through the files in the folder\n",
    "for idx, filename in enumerate(tqdm(os.listdir(path_train_B))):\n",
    "    if(filename.endswith(\".psv\")):\n",
    "        \n",
    "        # Patient id is the file name\n",
    "        id = filename[1:-4]\n",
    "        \n",
    "        # Read one file\n",
    "        patient = pd.read_csv((path_train_B + filename), sep='|')\n",
    "        (r, c) = patient.shape\n",
    "    \n",
    "        # Add time and patient id as own columns\n",
    "        time_list = patient.index\n",
    "        patient[\"Time\"] = time_list\n",
    "        id_list = [id] * r\n",
    "        patient[\"Id\"] = id_list\n",
    "\n",
    "        # Convert to numpy \n",
    "        patient_np = patient.to_numpy()\n",
    "\n",
    "        # Concatinate data matrix with patients data\n",
    "        if idx == 0:\n",
    "            train_B = patient_np\n",
    "        else:\n",
    "            train_B = np.concatenate((train_B, patient_np), axis=0)\n",
    "\n",
    "\n",
    "print(train_B.shape)\n",
    "# Testing git \n",
    "\n"
   ]
  }
 ],
 "metadata": {
  "kernelspec": {
   "display_name": "Python 3",
   "language": "python",
   "name": "python3"
  },
  "language_info": {
   "codemirror_mode": {
    "name": "ipython",
    "version": 3
   },
   "file_extension": ".py",
   "mimetype": "text/x-python",
   "name": "python",
   "nbconvert_exporter": "python",
   "pygments_lexer": "ipython3",
   "version": "3.7.4"
  }
 },
 "nbformat": 4,
 "nbformat_minor": 2
}
