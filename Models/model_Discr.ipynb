{
 "cells": [
  {
   "cell_type": "markdown",
   "metadata": {},
   "source": [
    "## Reading-in data"
   ]
  },
  {
   "cell_type": "markdown",
   "metadata": {},
   "source": [
    "First we import the required packages and modules. The last line imports the utility scoring function from the file that was published in Challenge's GitHub page. "
   ]
  },
  {
   "cell_type": "code",
   "execution_count": 1,
   "metadata": {},
   "outputs": [],
   "source": [
    "import os\n",
    "import numpy as np\n",
    "import tensorflow as tf\n",
    "from tensorflow import TensorSpec as ts\n",
    "import pandas as pd\n",
    "from scipy.special import logit\n",
    "from sklearn.impute import SimpleImputer \n",
    "from sklearn.preprocessing import MinMaxScaler\n",
    "from sklearn import preprocessing\n",
    "\n",
    "from matplotlib import pyplot as plt \n",
    "from tqdm import tqdm, trange\n",
    "from time import time\n",
    "from evaluate_sepsis_score import compute_prediction_utility\n"
   ]
  },
  {
   "cell_type": "markdown",
   "metadata": {},
   "source": [
    "We set up some constants that govern how many CV folds we assume and which CV fold is used for testing, as well as number of batches for mini-batch model fitting."
   ]
  },
  {
   "cell_type": "code",
   "execution_count": 2,
   "metadata": {},
   "outputs": [],
   "source": [
    "startTime = time()\n",
    "dataDir = r\"E:\\AALTO\\Kevät2020\\STATISTICAL GENETICS  & PERS. MED\\Project\\data\"\n",
    "dtype = np.double\n",
    "reloadDataFlag = False\n",
    "cvFoldN, cvFold = 5, 0\n",
    "batchN = 10"
   ]
  },
  {
   "cell_type": "markdown",
   "metadata": {},
   "source": [
    "Next we import the data from the raw data files, do some truncation for the very outlying outcomes and save the preprocessed data to a single file that is much faster to load."
   ]
  },
  {
   "cell_type": "code",
   "execution_count": 3,
   "metadata": {},
   "outputs": [],
   "source": [
    "wspace = 0.5  # the amount of width reserved for space between subplots,\n",
    "              # expressed as a fraction of the average axis width\n",
    "hspace = 0.55  # the amount of height reserved for space between subplots,\n",
    "              # expressed as a fraction of the average axis height\n",
    "    \n",
    "if reloadDataFlag:\n",
    "  subDirList = [\"training_setA\", \"training_setB\"]\n",
    "  dataFrames, P = [], 0\n",
    "  for subDir in subDirList:\n",
    "    files = [f for f in os.listdir(os.path.join(dataDir,subDir)) if os.path.isfile(os.path.join(dataDir,subDir, f))]\n",
    "    for f in tqdm(files):\n",
    "      df = pd.read_csv(os.path.join(dataDir,subDir,f),sep=\"|\")\n",
    "      df[\"Id\"] = P\n",
    "      dataFrames.append(df)\n",
    "      P += 1\n",
    "  dataFrame = pd.concat(dataFrames)\n",
    "      \n",
    "  fig, axes = plt.subplots(nrows=5, ncols=7, figsize=(20,9))\n",
    "  for i,ax in enumerate(axes.flatten()):\n",
    "    q = np.nanquantile(dataFrame.iloc[:,i],[0,0.001,0.01,0.05,0.25,0.5,0.75,0.95,0.99,0.999,1])\n",
    "    dataFrame.iloc[:,i] = np.clip(dataFrame.iloc[:,i], q[1],q[-2])\n",
    "    ax.hist(dataFrame.iloc[:,i], bins=10, fc=(0, 1, 0, 1))\n",
    "    ax.set_title(str(i) + \" \" + dataFrame.columns[i])\n",
    "      \n",
    "      \n",
    "  plt.subplots_adjust(wspace=wspace, hspace=hspace)\n",
    "  plt.show()\n",
    "  \n",
    "  dataFrame.to_pickle(os.path.join(dataDir,\"all_raw_data.pkl\"))\n",
    "else:\n",
    "  dataFrame = pd.read_pickle(os.path.join(dataDir,\"all_raw_data.pkl\"))\n",
    "  P = np.unique(dataFrame[\"Id\"]).shape[0]"
   ]
  },
  {
   "cell_type": "code",
   "execution_count": 4,
   "metadata": {
    "scrolled": true
   },
   "outputs": [
    {
     "data": {
      "image/png": "[encoded data removed]",
      "text/plain": [
       "<Figure size 1080x720 with 1 Axes>"
      ]
     },
     "metadata": {
      "needs_background": "light"
     },
     "output_type": "display_data"
    }
   ],
   "source": [
    "# Calculate the percentage of missing values per feature and plot them\n",
    "\n",
    "Nan_frame = dataFrame.isna().sum()\n",
    "N = dataFrame.shape[0]\n",
    "Nan_frame = Nan_frame/N\n",
    "\n",
    "ax = Nan_frame.plot.bar(figsize=(15,10))\n",
    "plt.axhline(y=.8,linewidth=1, color='g')\n",
    "plt.axhline(y=.9,linewidth=1, color='r')\n",
    "plt.axhline(y=1,linewidth=1, color='k')\n",
    "plt.ylabel(\"Missing values (%)\")\n",
    "path = r\"E:\\AALTO\\Kevät2020\\STATISTICAL GENETICS  & PERS. MED\\Project\\Statistical-Genetics-and-Personalised-Medicine-Assignment\\Graphs\\missing_values.png\"\n",
    "plt.savefig(path)"
   ]
  },
  {
   "cell_type": "markdown",
   "metadata": {},
   "source": [
    "Throw away the values that are missing more than 20% and visualize the data. Impute the rest missing values as means of the patient"
   ]
  },
  {
   "cell_type": "code",
   "execution_count": 5,
   "metadata": {
    "scrolled": true
   },
   "outputs": [
    {
     "name": "stderr",
     "output_type": "stream",
     "text": [
      "C:\\Users\\makke\\Anaconda3\\lib\\site-packages\\ipykernel_launcher.py:5: SettingWithCopyWarning: \n",
      "A value is trying to be set on a copy of a slice from a DataFrame.\n",
      "Try using .loc[row_indexer,col_indexer] = value instead\n",
      "\n",
      "See the caveats in the documentation: https://pandas.pydata.org/pandas-docs/stable/user_guide/indexing.html#returning-a-view-versus-a-copy\n",
      "  \"\"\"\n",
      "C:\\Users\\makke\\Anaconda3\\lib\\site-packages\\pandas\\core\\indexing.py:966: SettingWithCopyWarning: \n",
      "A value is trying to be set on a copy of a slice from a DataFrame.\n",
      "Try using .loc[row_indexer,col_indexer] = value instead\n",
      "\n",
      "See the caveats in the documentation: https://pandas.pydata.org/pandas-docs/stable/user_guide/indexing.html#returning-a-view-versus-a-copy\n",
      "  self.obj[item] = s\n",
      "  0%|                                                                                        | 0/40336 [00:00<?, ?it/s]"
     ]
    },
    {
     "name": "stdout",
     "output_type": "stream",
     "text": [
      "Index(['HR', 'O2Sat', 'Temp', 'SBP', 'MAP', 'DBP', 'Resp', 'Age', 'Gender',\n",
      "       'HospAdmTime', 'ICULOS', 'SepsisLabel', 'Id', 'Unit'],\n",
      "      dtype='object')\n",
      "(1552210, 14)\n"
     ]
    },
    {
     "name": "stderr",
     "output_type": "stream",
     "text": [
      "  1%|█▏                                                                          | 605/40336 [02:10<2:23:02,  4.63it/s]\n"
     ]
    },
    {
     "ename": "KeyboardInterrupt",
     "evalue": "",
     "output_type": "error",
     "traceback": [
      "\u001b[1;31m---------------------------------------------------------------------------\u001b[0m",
      "\u001b[1;31mKeyboardInterrupt\u001b[0m                         Traceback (most recent call last)",
      "\u001b[1;32m<ipython-input-5-171fd5db4c15>\u001b[0m in \u001b[0;36m<module>\u001b[1;34m\u001b[0m\n\u001b[0;32m     15\u001b[0m     \u001b[0mROI\u001b[0m \u001b[1;33m=\u001b[0m \u001b[0mstripped_frame\u001b[0m\u001b[1;33m[\u001b[0m\u001b[0mstripped_frame\u001b[0m\u001b[1;33m[\u001b[0m\u001b[1;34m\"Id\"\u001b[0m\u001b[1;33m]\u001b[0m\u001b[1;33m==\u001b[0m\u001b[0mp\u001b[0m\u001b[1;33m]\u001b[0m\u001b[1;33m\u001b[0m\u001b[1;33m\u001b[0m\u001b[0m\n\u001b[0;32m     16\u001b[0m     \u001b[0mROI\u001b[0m \u001b[1;33m=\u001b[0m \u001b[0mROI\u001b[0m\u001b[1;33m.\u001b[0m\u001b[0mfillna\u001b[0m\u001b[1;33m(\u001b[0m\u001b[0mROI\u001b[0m\u001b[1;33m.\u001b[0m\u001b[0mmean\u001b[0m\u001b[1;33m(\u001b[0m\u001b[1;33m)\u001b[0m\u001b[1;33m)\u001b[0m\u001b[1;33m\u001b[0m\u001b[1;33m\u001b[0m\u001b[0m\n\u001b[1;32m---> 17\u001b[1;33m     \u001b[0mstripped_frame\u001b[0m\u001b[1;33m[\u001b[0m\u001b[0mstripped_frame\u001b[0m\u001b[1;33m[\u001b[0m\u001b[1;34m\"Id\"\u001b[0m\u001b[1;33m]\u001b[0m\u001b[1;33m==\u001b[0m\u001b[0mp\u001b[0m\u001b[1;33m]\u001b[0m \u001b[1;33m=\u001b[0m \u001b[0mROI\u001b[0m\u001b[1;33m\u001b[0m\u001b[1;33m\u001b[0m\u001b[0m\n\u001b[0m\u001b[0;32m     18\u001b[0m \u001b[1;33m\u001b[0m\u001b[0m\n\u001b[0;32m     19\u001b[0m \u001b[0mstripped_frame\u001b[0m\u001b[1;33m.\u001b[0m\u001b[0mto_pickle\u001b[0m\u001b[1;33m(\u001b[0m\u001b[0mos\u001b[0m\u001b[1;33m.\u001b[0m\u001b[0mpath\u001b[0m\u001b[1;33m.\u001b[0m\u001b[0mjoin\u001b[0m\u001b[1;33m(\u001b[0m\u001b[0mdataDir\u001b[0m\u001b[1;33m,\u001b[0m\u001b[1;34m\"stripped_filled_data.pkl\"\u001b[0m\u001b[1;33m)\u001b[0m\u001b[1;33m)\u001b[0m\u001b[1;33m\u001b[0m\u001b[1;33m\u001b[0m\u001b[0m\n",
      "\u001b[1;32m~\\Anaconda3\\lib\\site-packages\\pandas\\core\\frame.py\u001b[0m in \u001b[0;36m__setitem__\u001b[1;34m(self, key, value)\u001b[0m\n\u001b[0;32m   2933\u001b[0m             \u001b[0mself\u001b[0m\u001b[1;33m.\u001b[0m\u001b[0m_setitem_frame\u001b[0m\u001b[1;33m(\u001b[0m\u001b[0mkey\u001b[0m\u001b[1;33m,\u001b[0m \u001b[0mvalue\u001b[0m\u001b[1;33m)\u001b[0m\u001b[1;33m\u001b[0m\u001b[1;33m\u001b[0m\u001b[0m\n\u001b[0;32m   2934\u001b[0m         \u001b[1;32melif\u001b[0m \u001b[0misinstance\u001b[0m\u001b[1;33m(\u001b[0m\u001b[0mkey\u001b[0m\u001b[1;33m,\u001b[0m \u001b[1;33m(\u001b[0m\u001b[0mSeries\u001b[0m\u001b[1;33m,\u001b[0m \u001b[0mnp\u001b[0m\u001b[1;33m.\u001b[0m\u001b[0mndarray\u001b[0m\u001b[1;33m,\u001b[0m \u001b[0mlist\u001b[0m\u001b[1;33m,\u001b[0m \u001b[0mIndex\u001b[0m\u001b[1;33m)\u001b[0m\u001b[1;33m)\u001b[0m\u001b[1;33m:\u001b[0m\u001b[1;33m\u001b[0m\u001b[1;33m\u001b[0m\u001b[0m\n\u001b[1;32m-> 2935\u001b[1;33m             \u001b[0mself\u001b[0m\u001b[1;33m.\u001b[0m\u001b[0m_setitem_array\u001b[0m\u001b[1;33m(\u001b[0m\u001b[0mkey\u001b[0m\u001b[1;33m,\u001b[0m \u001b[0mvalue\u001b[0m\u001b[1;33m)\u001b[0m\u001b[1;33m\u001b[0m\u001b[1;33m\u001b[0m\u001b[0m\n\u001b[0m\u001b[0;32m   2936\u001b[0m         \u001b[1;32melse\u001b[0m\u001b[1;33m:\u001b[0m\u001b[1;33m\u001b[0m\u001b[1;33m\u001b[0m\u001b[0m\n\u001b[0;32m   2937\u001b[0m             \u001b[1;31m# set column\u001b[0m\u001b[1;33m\u001b[0m\u001b[1;33m\u001b[0m\u001b[1;33m\u001b[0m\u001b[0m\n",
      "\u001b[1;32m~\\Anaconda3\\lib\\site-packages\\pandas\\core\\frame.py\u001b[0m in \u001b[0;36m_setitem_array\u001b[1;34m(self, key, value)\u001b[0m\n\u001b[0;32m   2955\u001b[0m             \u001b[0mindexer\u001b[0m \u001b[1;33m=\u001b[0m \u001b[0mkey\u001b[0m\u001b[1;33m.\u001b[0m\u001b[0mnonzero\u001b[0m\u001b[1;33m(\u001b[0m\u001b[1;33m)\u001b[0m\u001b[1;33m[\u001b[0m\u001b[1;36m0\u001b[0m\u001b[1;33m]\u001b[0m\u001b[1;33m\u001b[0m\u001b[1;33m\u001b[0m\u001b[0m\n\u001b[0;32m   2956\u001b[0m             \u001b[0mself\u001b[0m\u001b[1;33m.\u001b[0m\u001b[0m_check_setitem_copy\u001b[0m\u001b[1;33m(\u001b[0m\u001b[1;33m)\u001b[0m\u001b[1;33m\u001b[0m\u001b[1;33m\u001b[0m\u001b[0m\n\u001b[1;32m-> 2957\u001b[1;33m             \u001b[0mself\u001b[0m\u001b[1;33m.\u001b[0m\u001b[0mloc\u001b[0m\u001b[1;33m.\u001b[0m\u001b[0m_setitem_with_indexer\u001b[0m\u001b[1;33m(\u001b[0m\u001b[0mindexer\u001b[0m\u001b[1;33m,\u001b[0m \u001b[0mvalue\u001b[0m\u001b[1;33m)\u001b[0m\u001b[1;33m\u001b[0m\u001b[1;33m\u001b[0m\u001b[0m\n\u001b[0m\u001b[0;32m   2958\u001b[0m         \u001b[1;32melse\u001b[0m\u001b[1;33m:\u001b[0m\u001b[1;33m\u001b[0m\u001b[1;33m\u001b[0m\u001b[0m\n\u001b[0;32m   2959\u001b[0m             \u001b[1;32mif\u001b[0m \u001b[0misinstance\u001b[0m\u001b[1;33m(\u001b[0m\u001b[0mvalue\u001b[0m\u001b[1;33m,\u001b[0m \u001b[0mDataFrame\u001b[0m\u001b[1;33m)\u001b[0m\u001b[1;33m:\u001b[0m\u001b[1;33m\u001b[0m\u001b[1;33m\u001b[0m\u001b[0m\n",
      "\u001b[1;32m~\\Anaconda3\\lib\\site-packages\\pandas\\core\\indexing.py\u001b[0m in \u001b[0;36m_setitem_with_indexer\u001b[1;34m(self, indexer, value)\u001b[0m\n\u001b[0;32m    984\u001b[0m                             \u001b[0mv\u001b[0m \u001b[1;33m=\u001b[0m \u001b[0mnp\u001b[0m\u001b[1;33m.\u001b[0m\u001b[0mnan\u001b[0m\u001b[1;33m\u001b[0m\u001b[1;33m\u001b[0m\u001b[0m\n\u001b[0;32m    985\u001b[0m \u001b[1;33m\u001b[0m\u001b[0m\n\u001b[1;32m--> 986\u001b[1;33m                         \u001b[0msetter\u001b[0m\u001b[1;33m(\u001b[0m\u001b[0mitem\u001b[0m\u001b[1;33m,\u001b[0m \u001b[0mv\u001b[0m\u001b[1;33m)\u001b[0m\u001b[1;33m\u001b[0m\u001b[1;33m\u001b[0m\u001b[0m\n\u001b[0m\u001b[0;32m    987\u001b[0m \u001b[1;33m\u001b[0m\u001b[0m\n\u001b[0;32m    988\u001b[0m                 \u001b[1;31m# we have an equal len ndarray/convertible to our labels\u001b[0m\u001b[1;33m\u001b[0m\u001b[1;33m\u001b[0m\u001b[1;33m\u001b[0m\u001b[0m\n",
      "\u001b[1;32m~\\Anaconda3\\lib\\site-packages\\pandas\\core\\indexing.py\u001b[0m in \u001b[0;36msetter\u001b[1;34m(item, v)\u001b[0m\n\u001b[0;32m    964\u001b[0m \u001b[1;33m\u001b[0m\u001b[0m\n\u001b[0;32m    965\u001b[0m                 \u001b[1;31m# reset the sliced object if unique\u001b[0m\u001b[1;33m\u001b[0m\u001b[1;33m\u001b[0m\u001b[1;33m\u001b[0m\u001b[0m\n\u001b[1;32m--> 966\u001b[1;33m                 \u001b[0mself\u001b[0m\u001b[1;33m.\u001b[0m\u001b[0mobj\u001b[0m\u001b[1;33m[\u001b[0m\u001b[0mitem\u001b[0m\u001b[1;33m]\u001b[0m \u001b[1;33m=\u001b[0m \u001b[0ms\u001b[0m\u001b[1;33m\u001b[0m\u001b[1;33m\u001b[0m\u001b[0m\n\u001b[0m\u001b[0;32m    967\u001b[0m \u001b[1;33m\u001b[0m\u001b[0m\n\u001b[0;32m    968\u001b[0m             \u001b[1;31m# we need an iterable, with a ndim of at least 1\u001b[0m\u001b[1;33m\u001b[0m\u001b[1;33m\u001b[0m\u001b[1;33m\u001b[0m\u001b[0m\n",
      "\u001b[1;32m~\\Anaconda3\\lib\\site-packages\\pandas\\core\\frame.py\u001b[0m in \u001b[0;36m__setitem__\u001b[1;34m(self, key, value)\u001b[0m\n\u001b[0;32m   2936\u001b[0m         \u001b[1;32melse\u001b[0m\u001b[1;33m:\u001b[0m\u001b[1;33m\u001b[0m\u001b[1;33m\u001b[0m\u001b[0m\n\u001b[0;32m   2937\u001b[0m             \u001b[1;31m# set column\u001b[0m\u001b[1;33m\u001b[0m\u001b[1;33m\u001b[0m\u001b[1;33m\u001b[0m\u001b[0m\n\u001b[1;32m-> 2938\u001b[1;33m             \u001b[0mself\u001b[0m\u001b[1;33m.\u001b[0m\u001b[0m_set_item\u001b[0m\u001b[1;33m(\u001b[0m\u001b[0mkey\u001b[0m\u001b[1;33m,\u001b[0m \u001b[0mvalue\u001b[0m\u001b[1;33m)\u001b[0m\u001b[1;33m\u001b[0m\u001b[1;33m\u001b[0m\u001b[0m\n\u001b[0m\u001b[0;32m   2939\u001b[0m \u001b[1;33m\u001b[0m\u001b[0m\n\u001b[0;32m   2940\u001b[0m     \u001b[1;32mdef\u001b[0m \u001b[0m_setitem_slice\u001b[0m\u001b[1;33m(\u001b[0m\u001b[0mself\u001b[0m\u001b[1;33m,\u001b[0m \u001b[0mkey\u001b[0m\u001b[1;33m,\u001b[0m \u001b[0mvalue\u001b[0m\u001b[1;33m)\u001b[0m\u001b[1;33m:\u001b[0m\u001b[1;33m\u001b[0m\u001b[1;33m\u001b[0m\u001b[0m\n",
      "\u001b[1;32m~\\Anaconda3\\lib\\site-packages\\pandas\\core\\frame.py\u001b[0m in \u001b[0;36m_set_item\u001b[1;34m(self, key, value)\u001b[0m\n\u001b[0;32m   2999\u001b[0m         \u001b[0mself\u001b[0m\u001b[1;33m.\u001b[0m\u001b[0m_ensure_valid_index\u001b[0m\u001b[1;33m(\u001b[0m\u001b[0mvalue\u001b[0m\u001b[1;33m)\u001b[0m\u001b[1;33m\u001b[0m\u001b[1;33m\u001b[0m\u001b[0m\n\u001b[0;32m   3000\u001b[0m         \u001b[0mvalue\u001b[0m \u001b[1;33m=\u001b[0m \u001b[0mself\u001b[0m\u001b[1;33m.\u001b[0m\u001b[0m_sanitize_column\u001b[0m\u001b[1;33m(\u001b[0m\u001b[0mkey\u001b[0m\u001b[1;33m,\u001b[0m \u001b[0mvalue\u001b[0m\u001b[1;33m)\u001b[0m\u001b[1;33m\u001b[0m\u001b[1;33m\u001b[0m\u001b[0m\n\u001b[1;32m-> 3001\u001b[1;33m         \u001b[0mNDFrame\u001b[0m\u001b[1;33m.\u001b[0m\u001b[0m_set_item\u001b[0m\u001b[1;33m(\u001b[0m\u001b[0mself\u001b[0m\u001b[1;33m,\u001b[0m \u001b[0mkey\u001b[0m\u001b[1;33m,\u001b[0m \u001b[0mvalue\u001b[0m\u001b[1;33m)\u001b[0m\u001b[1;33m\u001b[0m\u001b[1;33m\u001b[0m\u001b[0m\n\u001b[0m\u001b[0;32m   3002\u001b[0m \u001b[1;33m\u001b[0m\u001b[0m\n\u001b[0;32m   3003\u001b[0m         \u001b[1;31m# check if we are modifying a copy\u001b[0m\u001b[1;33m\u001b[0m\u001b[1;33m\u001b[0m\u001b[1;33m\u001b[0m\u001b[0m\n",
      "\u001b[1;32m~\\Anaconda3\\lib\\site-packages\\pandas\\core\\generic.py\u001b[0m in \u001b[0;36m_set_item\u001b[1;34m(self, key, value)\u001b[0m\n\u001b[0;32m   3622\u001b[0m \u001b[1;33m\u001b[0m\u001b[0m\n\u001b[0;32m   3623\u001b[0m     \u001b[1;32mdef\u001b[0m \u001b[0m_set_item\u001b[0m\u001b[1;33m(\u001b[0m\u001b[0mself\u001b[0m\u001b[1;33m,\u001b[0m \u001b[0mkey\u001b[0m\u001b[1;33m,\u001b[0m \u001b[0mvalue\u001b[0m\u001b[1;33m)\u001b[0m \u001b[1;33m->\u001b[0m \u001b[1;32mNone\u001b[0m\u001b[1;33m:\u001b[0m\u001b[1;33m\u001b[0m\u001b[1;33m\u001b[0m\u001b[0m\n\u001b[1;32m-> 3624\u001b[1;33m         \u001b[0mself\u001b[0m\u001b[1;33m.\u001b[0m\u001b[0m_data\u001b[0m\u001b[1;33m.\u001b[0m\u001b[0mset\u001b[0m\u001b[1;33m(\u001b[0m\u001b[0mkey\u001b[0m\u001b[1;33m,\u001b[0m \u001b[0mvalue\u001b[0m\u001b[1;33m)\u001b[0m\u001b[1;33m\u001b[0m\u001b[1;33m\u001b[0m\u001b[0m\n\u001b[0m\u001b[0;32m   3625\u001b[0m         \u001b[0mself\u001b[0m\u001b[1;33m.\u001b[0m\u001b[0m_clear_item_cache\u001b[0m\u001b[1;33m(\u001b[0m\u001b[1;33m)\u001b[0m\u001b[1;33m\u001b[0m\u001b[1;33m\u001b[0m\u001b[0m\n\u001b[0;32m   3626\u001b[0m \u001b[1;33m\u001b[0m\u001b[0m\n",
      "\u001b[1;32m~\\Anaconda3\\lib\\site-packages\\pandas\\core\\internals\\managers.py\u001b[0m in \u001b[0;36mset\u001b[1;34m(self, item, value)\u001b[0m\n\u001b[0;32m   1088\u001b[0m             \u001b[0mblk_locs\u001b[0m \u001b[1;33m=\u001b[0m \u001b[0mblklocs\u001b[0m\u001b[1;33m[\u001b[0m\u001b[0mval_locs\u001b[0m\u001b[1;33m.\u001b[0m\u001b[0mindexer\u001b[0m\u001b[1;33m]\u001b[0m\u001b[1;33m\u001b[0m\u001b[1;33m\u001b[0m\u001b[0m\n\u001b[0;32m   1089\u001b[0m             \u001b[1;32mif\u001b[0m \u001b[0mblk\u001b[0m\u001b[1;33m.\u001b[0m\u001b[0mshould_store\u001b[0m\u001b[1;33m(\u001b[0m\u001b[0mvalue\u001b[0m\u001b[1;33m)\u001b[0m\u001b[1;33m:\u001b[0m\u001b[1;33m\u001b[0m\u001b[1;33m\u001b[0m\u001b[0m\n\u001b[1;32m-> 1090\u001b[1;33m                 \u001b[0mblk\u001b[0m\u001b[1;33m.\u001b[0m\u001b[0mset\u001b[0m\u001b[1;33m(\u001b[0m\u001b[0mblk_locs\u001b[0m\u001b[1;33m,\u001b[0m \u001b[0mvalue_getitem\u001b[0m\u001b[1;33m(\u001b[0m\u001b[0mval_locs\u001b[0m\u001b[1;33m)\u001b[0m\u001b[1;33m)\u001b[0m\u001b[1;33m\u001b[0m\u001b[1;33m\u001b[0m\u001b[0m\n\u001b[0m\u001b[0;32m   1091\u001b[0m             \u001b[1;32melse\u001b[0m\u001b[1;33m:\u001b[0m\u001b[1;33m\u001b[0m\u001b[1;33m\u001b[0m\u001b[0m\n\u001b[0;32m   1092\u001b[0m                 \u001b[0munfit_mgr_locs\u001b[0m\u001b[1;33m.\u001b[0m\u001b[0mappend\u001b[0m\u001b[1;33m(\u001b[0m\u001b[0mblk\u001b[0m\u001b[1;33m.\u001b[0m\u001b[0mmgr_locs\u001b[0m\u001b[1;33m.\u001b[0m\u001b[0mas_array\u001b[0m\u001b[1;33m[\u001b[0m\u001b[0mblk_locs\u001b[0m\u001b[1;33m]\u001b[0m\u001b[1;33m)\u001b[0m\u001b[1;33m\u001b[0m\u001b[1;33m\u001b[0m\u001b[0m\n",
      "\u001b[1;32m~\\Anaconda3\\lib\\site-packages\\pandas\\core\\internals\\blocks.py\u001b[0m in \u001b[0;36mset\u001b[1;34m(self, locs, values)\u001b[0m\n\u001b[0;32m    374\u001b[0m         \u001b[1;32mNone\u001b[0m\u001b[1;33m\u001b[0m\u001b[1;33m\u001b[0m\u001b[0m\n\u001b[0;32m    375\u001b[0m         \"\"\"\n\u001b[1;32m--> 376\u001b[1;33m         \u001b[0mself\u001b[0m\u001b[1;33m.\u001b[0m\u001b[0mvalues\u001b[0m\u001b[1;33m[\u001b[0m\u001b[0mlocs\u001b[0m\u001b[1;33m]\u001b[0m \u001b[1;33m=\u001b[0m \u001b[0mvalues\u001b[0m\u001b[1;33m\u001b[0m\u001b[1;33m\u001b[0m\u001b[0m\n\u001b[0m\u001b[0;32m    377\u001b[0m \u001b[1;33m\u001b[0m\u001b[0m\n\u001b[0;32m    378\u001b[0m     \u001b[1;32mdef\u001b[0m \u001b[0mdelete\u001b[0m\u001b[1;33m(\u001b[0m\u001b[0mself\u001b[0m\u001b[1;33m,\u001b[0m \u001b[0mloc\u001b[0m\u001b[1;33m)\u001b[0m\u001b[1;33m:\u001b[0m\u001b[1;33m\u001b[0m\u001b[1;33m\u001b[0m\u001b[0m\n",
      "\u001b[1;31mKeyboardInterrupt\u001b[0m: "
     ]
    }
   ],
   "source": [
    "# DATA IMPUTATION time~2,5h\n",
    "    # Does not impute patients with all values nan \n",
    "    # -> later replaced with 0\n",
    "    \n",
    "Nan_frame = Nan_frame[Nan_frame<0.80]\n",
    "stripped_frame = dataFrame[Nan_frame.index]\n",
    "\n",
    "# Join the units as one\n",
    "stripped_frame[\"Unit\"] = stripped_frame[\"Unit1\"] + 2*stripped_frame[\"Unit2\"] - 1 \n",
    "stripped_frame.loc[np.isnan(stripped_frame[\"Unit\"]),\"Unit\"] = 2\n",
    "\n",
    "stripped_frame=stripped_frame.drop(['Unit1','Unit2'], axis=1)\n",
    "\n",
    "print(stripped_frame.columns)\n",
    "print(stripped_frame.shape)\n",
    "\n",
    "# Impute all nan values of a patient with the mean \n",
    "for p in trange(P):\n",
    "    ROI = stripped_frame[stripped_frame[\"Id\"]==p]\n",
    "    ROI = ROI.fillna(ROI.mean())\n",
    "    stripped_frame[stripped_frame[\"Id\"]==p] = ROI\n",
    "\n",
    "stripped_frame.to_pickle(os.path.join(dataDir,\"stripped_filled_data.pkl\"))\n",
    "print(\"Imputation complete...\")"
   ]
  },
  {
   "cell_type": "code",
   "execution_count": 5,
   "metadata": {},
   "outputs": [
    {
     "name": "stdout",
     "output_type": "stream",
     "text": [
      "The amount of patients who get sepsis:  2932\n",
      "The amount of patients who dont get sepsis:  37404\n",
      "All patients:  40336\n",
      "Train set:  32269\n",
      "Test set:  8067\n",
      "_______\n",
      "The amount of sepsis patients choosed in test set:  586\n",
      "The amount of sepsis patients choosed in train set 2346\n",
      "The amount of healthy patients choosed in test set 7481\n",
      "The amount of healthy patients choosed in train set 29923\n"
     ]
    }
   ],
   "source": [
    "# START HERE IF THE DATA HAS BEEN ALREADY RESHAPED\n",
    "# Divide tha training and testing data\n",
    "\n",
    "f_s_df = pd.read_pickle(os.path.join(dataDir,\"stripped_filled_data.pkl\"))\n",
    "\n",
    "# Delete existing nans (Some patients did not have values at all)\n",
    "    # Let's see how the network perform with just zerovalues\n",
    "#to_delete = f_s_df[f_s_df['Id'].isnull()]\n",
    "#print(to_delete.Id.unique().shape)\n",
    "\n",
    "data = f_s_df.to_numpy()\n",
    "\n",
    "# Divide the data to train and test set with both good amount of sepsis patients\n",
    "all_patients = np.arange(P)\n",
    "\n",
    "# Check which patients get sepsis at some point\n",
    "target_rows =  data[data[:,-3]==1]\n",
    "id_sepsis_patients = np.unique(target_rows[:,-2])\n",
    "\n",
    "# The training/testing ratio for sepsis patients \n",
    "test_amount_sep = np.rint(0.20*id_sepsis_patients.shape[0])\n",
    "sepsis_test = np.random.choice(id_sepsis_patients, test_amount_sep.astype(int),replace=False)\n",
    "sepsis_train = np.setdiff1d(id_sepsis_patients, sepsis_test)\n",
    "\n",
    "# The trainin/testing ratio for nor sepsis patients\n",
    "not_sepsis_patients = np.setdiff1d(all_patients, id_sepsis_patients)\n",
    "test_amount_notsep = np.rint(0.20*not_sepsis_patients.shape[0])\n",
    "not_sepsis_test = np.random.choice(not_sepsis_patients, test_amount_notsep.astype(int),replace=False)\n",
    "not_sepsis_train = np.setdiff1d(not_sepsis_patients, not_sepsis_test)\n",
    "\n",
    "patient_Test = np.concatenate((not_sepsis_test,sepsis_test))\n",
    "patient_Train = np.setdiff1d(all_patients, patient_Test)\n",
    "\n",
    "print(\"The amount of patients who get sepsis: \",id_sepsis_patients.shape[0])\n",
    "print(\"The amount of patients who dont get sepsis: \", not_sepsis_patients.shape[0])\n",
    "print(\"All patients: \",all_patients.shape[0])\n",
    "print(\"Train set: \", patient_Train.shape[0])\n",
    "print(\"Test set: \", patient_Test.shape[0])\n",
    "\n",
    "print(\"_______\")\n",
    "print(\"The amount of sepsis patients choosed in test set: \",sepsis_test.shape[0])\n",
    "print(\"The amount of sepsis patients choosed in train set\",sepsis_train.shape[0])\n",
    "print(\"The amount of healthy patients choosed in test set\",not_sepsis_test.shape[0])\n",
    "print(\"The amount of healthy patients choosed in train set\", not_sepsis_train.shape[0])\n",
    "\n",
    "\n",
    "\n",
    "# Make masks to get the training and testing sets\n",
    "indTrain = np.isin(data[:,-2], patient_Train)\n",
    "indTest = np.isin(data[:,-2], patient_Test)\n",
    "data_Train = data[indTrain]\n",
    "data_Test = data[indTest]\n",
    "\n",
    "\n",
    "# Get the X and y for train and test\n",
    "    # Y = sepsis labels and X = data without sepsis labels\n",
    "    # REMEMBER NOT TO INPUT ID TO NETWORK!!!\n",
    "    # ID = -2, Sepsislabel= -1 \n",
    "perm = [0,1,2,3,4,5,6,7,8,9,10,13,12,11]\n",
    "X_train = data_Train[:,perm]\n",
    "X_test = data_Test[:,perm]\n",
    "\n",
    "# Scale (normalize) X_train \n",
    "    # XScale = [2,12]\n",
    "XScale = np.array([np.nanmean(X_train[:,:-2],0),np.nanstd(X_train[:,:-2],0)])\n",
    "XScale[:,-1] = [0,1]\n",
    "XScale[0,0] = 0\n",
    "\n",
    "X_train_scaled = X_train\n",
    "X_train_scaled[:,:-2] = (X_train_scaled[:,:-2] - XScale[0]) / XScale[1]\n",
    "X_test_scaled = X_test\n",
    "X_test_scaled[:,:-2] = (X_test_scaled[:,:-2] - XScale[0]) / XScale[1]\n",
    "\n",
    "Data_Train = X_train_scaled\n",
    "Data_Test = X_test_scaled\n",
    "\n"
   ]
  },
  {
   "cell_type": "code",
   "execution_count": 6,
   "metadata": {},
   "outputs": [],
   "source": [
    "# The paramters for the model\n",
    "epochs = 2\n",
    "time_steps = 8\n",
    "# -2 as ID is not feature and sepsis label has already been removed\n",
    "n_features = X_train.shape[1]-2\n",
    "early_stop = 0.05 "
   ]
  },
  {
   "cell_type": "code",
   "execution_count": 7,
   "metadata": {},
   "outputs": [],
   "source": [
    "# Function to reshape the data for the network\n",
    "def split_sequences(sequences,n_steps):\n",
    "    \"\"\"\n",
    "    Input:  Sequences = the data of one patient\n",
    "            n_steps = the screening window size \n",
    "    \n",
    "    returns X and y in the form of \n",
    "    X:(m_batch,time_step,num_features)\n",
    "    Y:(m_batch,time_step,1)\n",
    "    \"\"\"\n",
    "    # Delete the patient id \n",
    "    sequences = np.delete(sequences, -2, axis=1) \n",
    "    \n",
    "    X,y=list(),list()\n",
    "    for i in range(len(sequences)):\n",
    "        end_ix = i + n_steps\n",
    "        if end_ix > len(sequences):\n",
    "            break\n",
    "        seq_x, seq_y = sequences[i:end_ix, :-1], sequences[i:end_ix, -1]\n",
    "        X.append(seq_x)\n",
    "        y.append(seq_y.reshape(-1,1))\n",
    "        \n",
    "    return np.array(X), np.array(y)"
   ]
  },
  {
   "cell_type": "code",
   "execution_count": 9,
   "metadata": {},
   "outputs": [],
   "source": [
    "# The LSTM-model in KERAS\n",
    "LSTM_model = tf.keras.Sequential()\n",
    "\n",
    "LSTM_model.add(tf.keras.layers.LSTM(units=100,input_shape=(time_steps,n_features),return_sequences=True))\n",
    "LSTM_model.add(tf.keras.layers.Dropout(0.2))\n",
    "\n",
    "LSTM_model.add(tf.keras.layers.LSTM(units=100,return_sequences=True))\n",
    "LSTM_model.add(tf.keras.layers.Dropout(0.2))\n",
    "\n",
    "LSTM_model.add(tf.keras.layers.TimeDistributed(tf.keras.layers.Dense(25,activation='relu')))\n",
    "LSTM_model.add(tf.keras.layers.TimeDistributed(tf.keras.layers.Dense(1,activation='sigmoid')))\n",
    "\n",
    "adam = tf.keras.optimizers.Adam(learning_rate=0.001, clipnorm=1.)\n",
    "LSTM_model.compile(loss='mean_squared_error', optimizer=adam, metrics=['accuracy'])\n"
   ]
  },
  {
   "cell_type": "code",
   "execution_count": 109,
   "metadata": {},
   "outputs": [
    {
     "name": "stderr",
     "output_type": "stream",
     "text": [
      "100%|██████████████████████████████████████████████████████████████████████████| 32269/32269 [1:56:02<00:00,  4.63it/s]\n"
     ]
    },
    {
     "name": "stdout",
     "output_type": "stream",
     "text": [
      "Iterated through patients:  32268\n"
     ]
    }
   ],
   "source": [
    "## Reshape train datasets to usable form time~2h\n",
    "for idx,p in enumerate(tqdm(patient_Train)):\n",
    "    p_sequence = Data_Train[Data_Train[:,-2]== p]\n",
    "    x,y = split_sequences(p_sequence,time_steps) \n",
    "    \n",
    "    if idx == 0:\n",
    "        Input_train = x\n",
    "        Label_train = y\n",
    "    else:\n",
    "        Input_train = np.concatenate((Input_train,x), 0)\n",
    "        Label_train = np.concatenate((Label_train,y), 0)\n",
    "       \n",
    "print(\"Iterated through patients: \", idx)\n",
    "np.save(dataDir+\"\\input_train.npy\",Input_train)\n",
    "np.save(dataDir+\"\\label_train.npy\",Label_train)\n",
    "    \n"
   ]
  },
  {
   "cell_type": "code",
   "execution_count": 149,
   "metadata": {},
   "outputs": [
    {
     "name": "stderr",
     "output_type": "stream",
     "text": [
      " 13%|█████████▊                                                                   | 1030/8067 [00:07<00:52, 133.33it/s]\n"
     ]
    },
    {
     "ename": "KeyboardInterrupt",
     "evalue": "",
     "output_type": "error",
     "traceback": [
      "\u001b[1;31m---------------------------------------------------------------------------\u001b[0m",
      "\u001b[1;31mKeyboardInterrupt\u001b[0m                         Traceback (most recent call last)",
      "\u001b[1;32m<ipython-input-149-d03f9388d28e>\u001b[0m in \u001b[0;36m<module>\u001b[1;34m\u001b[0m\n\u001b[0;32m      7\u001b[0m         \u001b[0mLabel_test\u001b[0m \u001b[1;33m=\u001b[0m \u001b[0my\u001b[0m\u001b[1;33m\u001b[0m\u001b[1;33m\u001b[0m\u001b[0m\n\u001b[0;32m      8\u001b[0m     \u001b[1;32melse\u001b[0m\u001b[1;33m:\u001b[0m\u001b[1;33m\u001b[0m\u001b[1;33m\u001b[0m\u001b[0m\n\u001b[1;32m----> 9\u001b[1;33m         \u001b[0mInput_test\u001b[0m \u001b[1;33m=\u001b[0m \u001b[0mnp\u001b[0m\u001b[1;33m.\u001b[0m\u001b[0mconcatenate\u001b[0m\u001b[1;33m(\u001b[0m\u001b[1;33m(\u001b[0m\u001b[0mInput_test\u001b[0m\u001b[1;33m,\u001b[0m\u001b[0mx\u001b[0m\u001b[1;33m)\u001b[0m\u001b[1;33m,\u001b[0m \u001b[1;36m0\u001b[0m\u001b[1;33m)\u001b[0m\u001b[1;33m\u001b[0m\u001b[1;33m\u001b[0m\u001b[0m\n\u001b[0m\u001b[0;32m     10\u001b[0m         \u001b[0mLabel_test\u001b[0m \u001b[1;33m=\u001b[0m \u001b[0mnp\u001b[0m\u001b[1;33m.\u001b[0m\u001b[0mconcatenate\u001b[0m\u001b[1;33m(\u001b[0m\u001b[1;33m(\u001b[0m\u001b[0mLabel_test\u001b[0m\u001b[1;33m,\u001b[0m\u001b[0my\u001b[0m\u001b[1;33m)\u001b[0m\u001b[1;33m,\u001b[0m\u001b[1;36m0\u001b[0m\u001b[1;33m)\u001b[0m\u001b[1;33m\u001b[0m\u001b[1;33m\u001b[0m\u001b[0m\n\u001b[0;32m     11\u001b[0m \u001b[1;33m\u001b[0m\u001b[0m\n",
      "\u001b[1;32m<__array_function__ internals>\u001b[0m in \u001b[0;36mconcatenate\u001b[1;34m(*args, **kwargs)\u001b[0m\n",
      "\u001b[1;31mKeyboardInterrupt\u001b[0m: "
     ]
    }
   ],
   "source": [
    "## Reshape test datasets to usable form time~10min\n",
    "for idx,p in enumerate(tqdm(patient_Test)):\n",
    "    p_sequence = Data_Test[Data_Test[:,-2]== p]\n",
    "    x,y = split_sequences(p_sequence,time_steps) \n",
    "    if idx == 0:\n",
    "        Input_test = x\n",
    "        Label_test = y\n",
    "    else:\n",
    "        Input_test = np.concatenate((Input_test,x), 0)\n",
    "        Label_test = np.concatenate((Label_test,y),0)\n",
    "    \n",
    "print(\"Iterated through patients: \", idx+1)\n",
    "np.save(dataDir+\"\\input_test.npy\",Input_test)\n",
    "np.save(dataDir+\"\\label_test.npy\",Label_test)\n"
   ]
  },
  {
   "cell_type": "code",
   "execution_count": 10,
   "metadata": {
    "scrolled": true
   },
   "outputs": [
    {
     "name": "stdout",
     "output_type": "stream",
     "text": [
      "Train on 1013376 samples\n",
      "Epoch 1/2\n",
      "1013376/1013376 [==============================] - 156s 154us/sample - loss: 0.0126 - accuracy: 0.9876\n",
      "Epoch 2/2\n",
      "1013376/1013376 [==============================] - 152s 150us/sample - loss: 0.0119 - accuracy: 0.9876\n",
      "Model trained...\n",
      "256482/256482 [==============================] - 16s 63us/sample - loss: 0.0122 - accuracy: 0.9877\n",
      "test loss, test acc: [0.012179880707917827, 0.98766285]\n"
     ]
    }
   ],
   "source": [
    "# The train loop for the LMST- model\n",
    "Input_train = np.load(dataDir+\"\\input_train.npy\") \n",
    "Label_train = np.load(dataDir+\"\\label_train.npy\") \n",
    "Input_test = np.load(dataDir+\"\\input_test.npy\") \n",
    "Label_test = np.load(dataDir+\"\\label_test.npy\") \n",
    "\n",
    "# Lets see how the model performs if we change all nans to 0\n",
    "Input_train_non =np.nan_to_num(Input_train) \n",
    "Input_test_non = np.nan_to_num(Input_test)\n",
    "\n",
    "# Fit the model using training data\n",
    "history = LSTM_model.fit(Input_train_non, Label_train, batch_size=128, epochs=epochs)\n",
    "print(\"Model trained...\")\n",
    "\n",
    "# Evaluate the model using test data\n",
    "results = LSTM_model.evaluate(Input_test_non, Label_test, batch_size=128)\n",
    "print('test loss, test acc:', results)\n",
    "\n",
    "LSTM_model.save_weights(dataDir+\"\\model_weights\")\n"
   ]
  },
  {
   "cell_type": "code",
   "execution_count": 69,
   "metadata": {
    "scrolled": true
   },
   "outputs": [
    {
     "name": "stderr",
     "output_type": "stream",
     "text": [
      "100%|██████████████████████████████████████████████████████████████████████████████| 8067/8067 [04:11<00:00, 32.04it/s]"
     ]
    },
    {
     "name": "stdout",
     "output_type": "stream",
     "text": [
      "(8067,)\n"
     ]
    },
    {
     "name": "stderr",
     "output_type": "stream",
     "text": [
      "\n"
     ]
    }
   ],
   "source": [
    "# Create the prediction matrix \n",
    "    # Loop through the patients and predict separately for each patient\n",
    "\n",
    "    # Sum time window probabilities and find first value that is over 2.4 (change it later)\n",
    "    \n",
    "    \n",
    "pred = []\n",
    "observed_utilities = np.zeros([patient_Test.shape[0]])\n",
    "\n",
    "for idx,p in enumerate(tqdm(patient_Test)):\n",
    "    p_sequence = np.nan_to_num(Data_Test[Data_Test[:,-2]== p])\n",
    "\n",
    "    sep_label = p_sequence[:,-1]\n",
    "    \n",
    "    x,y = split_sequences(p_sequence,time_steps) \n",
    "    \n",
    "    p_predictions = LSTM_model.predict(x)\n",
    "    \n",
    "    p_pred_sum = (np.sum(p_predictions,axis=1))\n",
    "                \n",
    "    # Might still exist local minimums that stay false\n",
    "    pred_mask = p_pred_sum > 2\n",
    "    \n",
    "    # Difference in length\n",
    "    diff = p_sequence.shape[0] - pred_mask.shape[0] \n",
    "                  \n",
    "    # Pad the prediction with the edge value\n",
    "    pred_mask = np.pad(pred_mask, ((0,diff),(0,0)), 'edge')\n",
    "                  \n",
    "    pred.append(pred_mask)\n",
    "    \n",
    "    observed_utilities[idx],_ = compute_prediction_utility(sep_label, pred_mask)\n",
    "    \n",
    "#print(len(pred))\n",
    "#print(pred_mask.shape)\n",
    "#print(p_sequence.shape)\n",
    "#print(pred_mask)\n",
    "#print(p_sequence)\n",
    "print(observed_utilities.shape)\n",
    "  "
   ]
  },
  {
   "cell_type": "markdown",
   "metadata": {},
   "source": [
    "Following the scoring rules of the Challenge, we compute the utility of trivial (inaction) predictions and optimal predictions. Those are used to get a score that shall be within the range $[0,1]$."
   ]
  },
  {
   "cell_type": "code",
   "execution_count": 67,
   "metadata": {},
   "outputs": [
    {
     "name": "stderr",
     "output_type": "stream",
     "text": [
      "100%|█████████████████████████████████████████████████████████████████████████████| 8067/8067 [00:09<00:00, 828.41it/s]\n"
     ]
    }
   ],
   "source": [
    "dt_early   = -12\n",
    "dt_optimal = -6\n",
    "dt_late    = 3\n",
    "\n",
    "testN = patient_Test.shape[0]\n",
    "best_utilities     = np.zeros(testN)\n",
    "inaction_utilities = np.zeros(testN)\n",
    "\n",
    "\n",
    "#with tqdm(range(testN)) as progressBar:\n",
    "  #for indTest in progressBar:\n",
    "    \n",
    "for idx,p in enumerate(tqdm(patient_Test)):\n",
    "    patient_sequence = np.nan_to_num(Data_Test[Data_Test[:,-2]== p])\n",
    "    sep_label_vec = patient_sequence[:,-1]\n",
    "    \n",
    "    #idTest = idVecTest[indTest]\n",
    "\n",
    "    #indIdTest = np.where(XTest[:,-1] == idTest)[0]\n",
    "\n",
    "    #XTestId,YTestId = XTest[indIdTest,:-1].copy(), YTest[indIdTest].copy()\n",
    "\n",
    "    #sepLabelVec = ~np.isnan(XTestId[:,0]) * (XTestId[:,0]>=0.0)\n",
    "    \n",
    "    N = patient_sequence.shape[0]\n",
    "    best_predictions     = np.zeros(N)\n",
    "    inaction_predictions = np.zeros(N)\n",
    "    action_predictions = np.ones(N)\n",
    "    if np.any(sep_label_vec):\n",
    "      # Optimal prediction time is the period of 6 hours after first 1 in sepsilabel  \n",
    "      t_sepsis = np.argmax(sep_label_vec) - dt_optimal\n",
    "      # The best prediction times for the patient\n",
    "      best_predictions[max(0, t_sepsis + dt_early) : min(t_sepsis + dt_late + 1, N)] = 1\n",
    "    # Save the best utilities for do-something and do-nothing (?)\n",
    "    best_utilities[idx],_ = compute_prediction_utility(sep_label_vec, best_predictions)\n",
    "    inaction_utilities[idx],_ = compute_prediction_utility(sep_label_vec, inaction_predictions)\n",
    "unnormalized_best_utility     = np.sum(best_utilities)\n",
    "unnormalized_inaction_utility = np.sum(inaction_utilities)"
   ]
  },
  {
   "cell_type": "markdown",
   "metadata": {},
   "source": [
    "Finally, we print the predictive score for the current CV fold."
   ]
  },
  {
   "cell_type": "code",
   "execution_count": 70,
   "metadata": {},
   "outputs": [
    {
     "name": "stdout",
     "output_type": "stream",
     "text": [
      "\n",
      "Predictive utility score 0.017, elapsed time 9826s\n"
     ]
    }
   ],
   "source": [
    "unnormalized_observed_utility = np.sum(observed_utilities)\n",
    "normalized_observed_utility = (unnormalized_observed_utility - unnormalized_inaction_utility) / (unnormalized_best_utility - unnormalized_inaction_utility)\n",
    "print(\"\\nPredictive utility score %.3f, elapsed time %ds\"%(normalized_observed_utility, time() - startTime))"
   ]
  },
  {
   "cell_type": "markdown",
   "metadata": {},
   "source": [
    "This example with linear model ends up in somewhat $0.03$ utility score if we average over the 5 CV folds. This is very far behind the methods from the top of the leaderboard, but still better than the best trivial predictions. However, this is why this model is marked as number 1, so the other onces shall generally perform better. Also, remember that you are not requested to beat them, but rahter conducting a course project that is aimed to give you practical skills on multivariate generative modelling that would be applicable in a wide range of biomedical applications.\n",
    "\n"
   ]
  },
  {
   "cell_type": "markdown",
   "metadata": {},
   "source": [
    "## NOTES\n",
    "\n",
    "The predictions have ~8hour window of no predictions in the end of each patient. -> how to deal with that? \n",
    "    - Pad the last prediction value to the end. The network should be able to classify right the last label at least\n",
    "\n",
    "Predictive utility 0.009, 0.017\n"
   ]
  },
  {
   "cell_type": "markdown",
   "metadata": {},
   "source": [
    "# Enjoy the exciting dataset and good luck!"
   ]
  }
 ],
 "metadata": {
  "kernelspec": {
   "display_name": "Python 3",
   "language": "python",
   "name": "python3"
  },
  "language_info": {
   "codemirror_mode": {
    "name": "ipython",
    "version": 3
   },
   "file_extension": ".py",
   "mimetype": "text/x-python",
   "name": "python",
   "nbconvert_exporter": "python",
   "pygments_lexer": "ipython3",
   "version": "3.7.4"
  }
 },
 "nbformat": 4,
 "nbformat_minor": 2
}
